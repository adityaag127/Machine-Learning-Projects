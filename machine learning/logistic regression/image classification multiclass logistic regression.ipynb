{
 "cells": [
  {
   "cell_type": "code",
   "execution_count": 2,
   "id": "c271073a",
   "metadata": {},
   "outputs": [],
   "source": [
    "import matplotlib.pyplot as plt\n",
    "%matplotlib inline"
   ]
  },
  {
   "cell_type": "code",
   "execution_count": 5,
   "id": "7997bc5c",
   "metadata": {},
   "outputs": [],
   "source": [
    "from sklearn.datasets import load_digits"
   ]
  },
  {
   "cell_type": "code",
   "execution_count": 6,
   "id": "8a77d4f8",
   "metadata": {},
   "outputs": [],
   "source": [
    "digits=load_digits()"
   ]
  },
  {
   "cell_type": "code",
   "execution_count": 7,
   "id": "60c0a6ea",
   "metadata": {},
   "outputs": [
    {
     "data": {
      "text/plain": [
       "['DESCR', 'data', 'feature_names', 'frame', 'images', 'target', 'target_names']"
      ]
     },
     "execution_count": 7,
     "metadata": {},
     "output_type": "execute_result"
    }
   ],
   "source": [
    "dir(digits)"
   ]
  },
  {
   "cell_type": "markdown",
   "id": "56230954",
   "metadata": {},
   "source": [
    "## data in this dataset use as image discription or we use this data to train our model insted of image becuse our model understand numeric data"
   ]
  },
  {
   "cell_type": "code",
   "execution_count": 8,
   "id": "585cda5d",
   "metadata": {},
   "outputs": [
    {
     "data": {
      "text/plain": [
       "array([ 0.,  0.,  5., 13.,  9.,  1.,  0.,  0.,  0.,  0., 13., 15., 10.,\n",
       "       15.,  5.,  0.,  0.,  3., 15.,  2.,  0., 11.,  8.,  0.,  0.,  4.,\n",
       "       12.,  0.,  0.,  8.,  8.,  0.,  0.,  5.,  8.,  0.,  0.,  9.,  8.,\n",
       "        0.,  0.,  4., 11.,  0.,  1., 12.,  7.,  0.,  0.,  2., 14.,  5.,\n",
       "       10., 12.,  0.,  0.,  0.,  0.,  6., 13., 10.,  0.,  0.,  0.])"
      ]
     },
     "execution_count": 8,
     "metadata": {},
     "output_type": "execute_result"
    }
   ],
   "source": [
    "digits.data[0]"
   ]
  },
  {
   "cell_type": "code",
   "execution_count": 10,
   "id": "fc57a253",
   "metadata": {},
   "outputs": [
    {
     "data": {
      "text/plain": [
       "array([[ 0.,  0.,  5., 13.,  9.,  1.,  0.,  0.],\n",
       "       [ 0.,  0., 13., 15., 10., 15.,  5.,  0.],\n",
       "       [ 0.,  3., 15.,  2.,  0., 11.,  8.,  0.],\n",
       "       [ 0.,  4., 12.,  0.,  0.,  8.,  8.,  0.],\n",
       "       [ 0.,  5.,  8.,  0.,  0.,  9.,  8.,  0.],\n",
       "       [ 0.,  4., 11.,  0.,  1., 12.,  7.,  0.],\n",
       "       [ 0.,  2., 14.,  5., 10., 12.,  0.,  0.],\n",
       "       [ 0.,  0.,  6., 13., 10.,  0.,  0.,  0.]])"
      ]
     },
     "execution_count": 10,
     "metadata": {},
     "output_type": "execute_result"
    }
   ],
   "source": [
    "digits.images[0]"
   ]
  },
  {
   "cell_type": "markdown",
   "id": "ac6385c6",
   "metadata": {},
   "source": [
    "## To show the image we have to use matplot lib library"
   ]
  },
  {
   "cell_type": "code",
   "execution_count": 20,
   "id": "c0c1e2fa",
   "metadata": {},
   "outputs": [
    {
     "data": {
      "text/plain": [
       "<matplotlib.image.AxesImage at 0x187cfcb9460>"
      ]
     },
     "execution_count": 20,
     "metadata": {},
     "output_type": "execute_result"
    },
    {
     "data": {
      "text/plain": [
       "<Figure size 432x288 with 0 Axes>"
      ]
     },
     "metadata": {},
     "output_type": "display_data"
    },
    {
     "data": {
      "image/png": "[encoded data removed]",
      "text/plain": [
       "<Figure size 288x288 with 1 Axes>"
      ]
     },
     "metadata": {
      "needs_background": "light"
     },
     "output_type": "display_data"
    }
   ],
   "source": [
    "plt.gray()\n",
    "plt.matshow(digits.images[69])"
   ]
  },
  {
   "cell_type": "markdown",
   "id": "e5d54603",
   "metadata": {},
   "source": [
    "## Traget is the value that is in the image (this will use to check our model and to tarin our model)"
   ]
  },
  {
   "cell_type": "code",
   "execution_count": 24,
   "id": "8c60cd11",
   "metadata": {},
   "outputs": [],
   "source": [
    "from sklearn.model_selection import train_test_split"
   ]
  },
  {
   "cell_type": "code",
   "execution_count": 26,
   "id": "c4a3860f",
   "metadata": {},
   "outputs": [],
   "source": [
    "x_train,x_test,y_train,y_test=train_test_split(digits.data,digits.target,test_size=0.3)"
   ]
  },
  {
   "cell_type": "code",
   "execution_count": 27,
   "id": "6405623c",
   "metadata": {},
   "outputs": [],
   "source": [
    "from sklearn.linear_model import LogisticRegression"
   ]
  },
  {
   "cell_type": "code",
   "execution_count": 30,
   "id": "8f661d2d",
   "metadata": {},
   "outputs": [],
   "source": [
    "model=LogisticRegression()"
   ]
  },
  {
   "cell_type": "code",
   "execution_count": 31,
   "id": "a48c3462",
   "metadata": {},
   "outputs": [
    {
     "name": "stderr",
     "output_type": "stream",
     "text": [
      "C:\\Users\\ADITYA\\anaconda3\\lib\\site-packages\\sklearn\\linear_model\\_logistic.py:763: ConvergenceWarning: lbfgs failed to converge (status=1):\n",
      "STOP: TOTAL NO. of ITERATIONS REACHED LIMIT.\n",
      "\n",
      "Increase the number of iterations (max_iter) or scale the data as shown in:\n",
      "    https://scikit-learn.org/stable/modules/preprocessing.html\n",
      "Please also refer to the documentation for alternative solver options:\n",
      "    https://scikit-learn.org/stable/modules/linear_model.html#logistic-regression\n",
      "  n_iter_i = _check_optimize_result(\n"
     ]
    },
    {
     "data": {
      "text/plain": [
       "LogisticRegression()"
      ]
     },
     "execution_count": 31,
     "metadata": {},
     "output_type": "execute_result"
    }
   ],
   "source": [
    "model.fit(x_train,y_train)"
   ]
  },
  {
   "cell_type": "code",
   "execution_count": 32,
   "id": "336500a1",
   "metadata": {},
   "outputs": [
    {
     "data": {
      "text/plain": [
       "array([6])"
      ]
     },
     "execution_count": 32,
     "metadata": {},
     "output_type": "execute_result"
    }
   ],
   "source": [
    "model.predict([digits.data[67]])"
   ]
  },
  {
   "cell_type": "code",
   "execution_count": 33,
   "id": "b1d5e704",
   "metadata": {},
   "outputs": [
    {
     "data": {
      "text/plain": [
       "array([3, 2, 0, 6, 4, 6, 6, 4, 6, 3, 8, 3, 1, 0, 4, 7, 4, 7, 5, 0, 1, 5,\n",
       "       4, 2, 1, 0, 8, 7, 1, 6, 0, 2, 8, 2, 5, 8, 0, 9, 4, 6, 4, 7, 9, 7,\n",
       "       1, 4, 1, 5, 7, 0, 8, 2, 0, 9, 2, 4, 9, 5, 1, 5, 6, 2, 2, 8, 5, 2,\n",
       "       3, 3, 7, 4, 0, 0, 4, 5, 1, 2, 2, 2, 8, 4, 2, 4, 4, 9, 5, 1, 2, 9,\n",
       "       2, 4, 5, 6, 7, 5, 6, 6, 7, 5, 2, 1, 9, 8, 7, 4, 3, 5, 5, 5, 3, 5,\n",
       "       3, 6, 5, 0, 1, 5, 5, 8, 6, 1, 7, 7, 9, 8, 2, 5, 0, 9, 5, 3, 2, 0,\n",
       "       0, 7, 7, 6, 1, 9, 9, 1, 4, 3, 9, 8, 3, 3, 1, 5, 8, 6, 7, 9, 6, 9,\n",
       "       9, 0, 5, 1, 5, 7, 3, 3, 8, 5, 0, 3, 8, 0, 3, 0, 3, 3, 6, 9, 7, 0,\n",
       "       1, 8, 2, 3, 0, 8, 2, 9, 1, 8, 6, 6, 1, 2, 1, 3, 2, 6, 2, 5, 8, 9,\n",
       "       7, 1, 0, 7, 8, 2, 5, 7, 0, 1, 7, 8, 0, 9, 8, 3, 6, 6, 3, 2, 6, 0,\n",
       "       6, 2, 0, 8, 4, 3, 8, 6, 0, 8, 4, 9, 8, 6, 5, 4, 9, 9, 5, 6, 0, 6,\n",
       "       9, 9, 6, 6, 2, 8, 6, 8, 5, 0, 1, 7, 3, 6, 3, 1, 5, 6, 1, 1, 3, 5,\n",
       "       5, 6, 5, 9, 7, 2, 2, 1, 9, 2, 1, 0, 6, 8, 0, 2, 5, 3, 9, 2, 1, 4,\n",
       "       7, 2, 8, 3, 8, 0, 3, 6, 1, 8, 7, 4, 3, 6, 2, 9, 8, 6, 9, 8, 0, 9,\n",
       "       1, 8, 2, 4, 6, 6, 4, 7, 4, 9, 2, 6, 1, 2, 5, 2, 2, 3, 6, 0, 1, 2,\n",
       "       6, 3, 1, 5, 0, 6, 7, 6, 4, 5, 1, 3, 9, 8, 4, 0, 7, 6, 8, 5, 2, 0,\n",
       "       1, 2, 6, 2, 4, 9, 9, 9, 9, 3, 8, 8, 2, 6, 2, 5, 8, 7, 1, 1, 0, 3,\n",
       "       4, 3, 1, 7, 7, 3, 8, 4, 3, 3, 7, 3, 0, 7, 3, 1, 7, 3, 0, 6, 9, 5,\n",
       "       7, 7, 3, 7, 3, 8, 9, 2, 5, 0, 6, 7, 2, 5, 2, 7, 8, 5, 1, 4, 3, 6,\n",
       "       0, 0, 7, 1, 9, 3, 1, 1, 1, 7, 9, 5, 2, 1, 0, 4, 7, 4, 3, 8, 5, 5,\n",
       "       6, 2, 7, 9, 6, 7, 4, 4, 6, 6, 7, 0, 0, 3, 8, 9, 1, 9, 6, 0, 5, 6,\n",
       "       7, 7, 9, 2, 0, 3, 4, 9, 0, 2, 9, 8, 7, 2, 2, 0, 6, 1, 3, 1, 3, 9,\n",
       "       6, 8, 2, 7, 9, 9, 1, 7, 7, 8, 0, 0, 5, 9, 7, 9, 3, 1, 8, 4, 1, 4,\n",
       "       5, 7, 9, 7, 8, 3, 4, 2, 6, 3, 9, 8, 9, 7, 2, 8, 2, 6, 5, 5, 6, 0,\n",
       "       4, 6, 0, 3, 4, 5, 6, 2, 8, 5, 7, 9])"
      ]
     },
     "execution_count": 33,
     "metadata": {},
     "output_type": "execute_result"
    }
   ],
   "source": [
    "model.predict(x_test)"
   ]
  },
  {
   "cell_type": "code",
   "execution_count": 34,
   "id": "de4e5d83",
   "metadata": {},
   "outputs": [
    {
     "data": {
      "text/plain": [
       "0.9611111111111111"
      ]
     },
     "execution_count": 34,
     "metadata": {},
     "output_type": "execute_result"
    }
   ],
   "source": [
    "model.score(x_test,y_test)"
   ]
  },
  {
   "cell_type": "markdown",
   "id": "480dbd6a",
   "metadata": {},
   "source": [
    "## As the sklearn all function needs array as argument then we provide [[]] to convert the dataframe to array\n",
    "## Let df=pd.read_csv(\"aditya.csv\")\n",
    "### then x=df[\"price\"] -----> Means that x is now dataframe which have price column and this can be feed into matplot library\n",
    "### and x=df[[\"price\"]] -----> Means thar x is now array that can be feed into sklearn fit,train_test_split"
   ]
  },
  {
   "cell_type": "code",
   "execution_count": null,
   "id": "78221dd7",
   "metadata": {},
   "outputs": [],
   "source": []
  },
  {
   "cell_type": "code",
   "execution_count": null,
   "id": "48f11285",
   "metadata": {},
   "outputs": [],
   "source": []
  }
 ],
 "metadata": {
  "kernelspec": {
   "display_name": "Python 3",
   "language": "python",
   "name": "python3"
  },
  "language_info": {
   "codemirror_mode": {
    "name": "ipython",
    "version": 3
   },
   "file_extension": ".py",
   "mimetype": "text/x-python",
   "name": "python",
   "nbconvert_exporter": "python",
   "pygments_lexer": "ipython3",
   "version": "3.8.8"
  }
 },
 "nbformat": 4,
 "nbformat_minor": 5
}
